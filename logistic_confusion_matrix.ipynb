{
 "cells": [
  {
   "cell_type": "code",
   "execution_count": 2,
   "id": "c8c1d394-ef01-4894-8460-ddc48625bbee",
   "metadata": {},
   "outputs": [],
   "source": [
    "import pandas as pd\n",
    "import matplotlib.pyplot as plt\n",
    "import seaborn as sns\n",
    "import time\n",
    "import xgboost as xgb\n",
    "from sklearn.model_selection import train_test_split\n",
    "import datetime as dt\n",
    "from sklearn.preprocessing import LabelEncoder\n",
    "from sklearn.preprocessing import OneHotEncoder\n",
    "from sklearn.linear_model import LogisticRegression\n",
    "import numpy as np\n",
    "from sklearn.metrics import r2_score\n",
    "from sklearn.metrics import plot_confusion_matrix\n",
    "\n",
    "# https://machinelearningmastery.com/data-preparation-gradient-boosting-xgboost-python/"
   ]
  },
  {
   "cell_type": "code",
   "execution_count": 3,
   "id": "06a68b58-ddc8-4752-a70e-61ac62751473",
   "metadata": {},
   "outputs": [],
   "source": [
    "path1 = 'https://gen10datafund2202.blob.core.windows.net/jedscontainer/911_Calls_For_Service.csv'\n",
    "path2 = 'https://opendata.arcgis.com/api/v3/datasets/4f49eb825f564efa9a23cd103c4ba13b_0/downloads/data?format=csv&spatialRefId=4326'\n",
    "detroit_911 = pd.read_csv(path1, thousands = \",\")"
   ]
  },
  {
   "cell_type": "markdown",
   "id": "d5952704-c9a4-479a-bfb4-5f870ea7c21a",
   "metadata": {},
   "source": [
    "## Clean the Data"
   ]
  },
  {
   "cell_type": "code",
   "execution_count": 4,
   "id": "88bc0c49-b0bf-41c6-bbb7-6c43c1305bbc",
   "metadata": {},
   "outputs": [],
   "source": [
    "detroit_df = detroit_911.copy()\n",
    "\n",
    "null_values = detroit_911.isnull().sum()\n",
    "\n",
    "detroit_df.drop(\n",
    "    columns = [\n",
    "        'incident_id',\n",
    "        'zip_code',\n",
    "        'oid',\n",
    "        'respondingunit',\n",
    "        'agency',\n",
    "        'X',\n",
    "        'Y',\n",
    "        'longitude',\n",
    "        'latitude',\n",
    "        'incident_address',\n",
    "        'block_id',\n",
    "        'category'\n",
    "    ], inplace = True)\n",
    "\n",
    "mapped_priorities = detroit_df.groupby(by = ['priority'])['calldescription'].apply(lambda x: ', '.join(x)).reset_index()\n",
    "mapped_priorities['calldescription'] = mapped_priorities['calldescription'].apply(lambda x: \", \".join(_.strip() for _ in set(x.split(\",\"))))"
   ]
  },
  {
   "cell_type": "markdown",
   "id": "409b62ea-d1cc-4591-b91a-15ebca859eac",
   "metadata": {},
   "source": [
    "### Fix Missing Priorities"
   ]
  },
  {
   "cell_type": "code",
   "execution_count": 5,
   "id": "b696114a-55cd-46b1-b6da-5b0643b09328",
   "metadata": {},
   "outputs": [],
   "source": [
    "priority_dict = {}\n",
    "for priority in mapped_priorities['priority'].unique():\n",
    "    priority_dict[priority] = mapped_priorities[(mapped_priorities.priority == priority)]['calldescription'].values.tolist()[0]\n",
    "\n",
    "del priority_dict[\" \"]\n",
    "\n",
    "def get_priority(current_priority, call_descrip):\n",
    "    if current_priority != \" \":\n",
    "        return current_priority\n",
    "    for key in priority_dict.keys():\n",
    "        if call_descrip in priority_dict[key]:\n",
    "            return key\n",
    "        \n",
    "    return 'FAIL'\n",
    "\n",
    "detroit_df['new_priority'] = detroit_df.apply(lambda row: get_priority(row.priority, row.calldescription), axis = 1)\n",
    "\n",
    "detroit_df.drop(columns = ['priority'], inplace = True)\n",
    "detroit_df.rename(columns = {'new_priority': 'priority'}, inplace = True)\n"
   ]
  },
  {
   "cell_type": "code",
   "execution_count": 6,
   "id": "aea85101-7688-40bc-90b1-aff3eafa1851",
   "metadata": {},
   "outputs": [],
   "source": [
    "detroit_df.drop(columns = ['totaltime','totalresponsetime'], inplace = True)"
   ]
  },
  {
   "cell_type": "markdown",
   "id": "2157936a-452b-4dd8-9777-183220a23397",
   "metadata": {},
   "source": [
    "### Convert timestamp to weekday"
   ]
  },
  {
   "cell_type": "code",
   "execution_count": 7,
   "id": "3d4a1d57-2618-4358-aed8-3fa30d084366",
   "metadata": {},
   "outputs": [],
   "source": [
    "def return_weekday(time_stamp):\n",
    "    time = dt.datetime.strptime(time_stamp, '%Y/%m/%d %H:%M:%S+00').date()\n",
    "    return dt.datetime.strftime(time, '%A')\n",
    "    \n",
    "detroit_df['weekday'] = detroit_df['call_timestamp'].apply(lambda x: return_weekday(x))"
   ]
  },
  {
   "cell_type": "code",
   "execution_count": 8,
   "id": "36860f10-12cc-46cd-b1e5-7f93f5baa041",
   "metadata": {},
   "outputs": [],
   "source": [
    "def get_daypart(time_stamp):\n",
    "    time = dt.datetime.strptime(time_stamp, '%Y/%m/%d %H:%M:%S+00')\n",
    "    time = dt.datetime.strftime(time, '%H:%M:%S')\n",
    "    if time < \"06:00\":\n",
    "        time_of_day = \"Early Morning\"\n",
    "    elif time >= \"06:00\" and time < \"10:00\":\n",
    "        time_of_day = \"Morning\"\n",
    "    elif time >= \"10:00\" and time < \"12:00\":\n",
    "        time_of_day = \"Late Morning\"\n",
    "    elif time >= \"12:00\" and time < \"15:00\":\n",
    "        time_of_day = \"Afternoon\"\n",
    "    elif time >= \"15:00\" and time < \"18:00\":\n",
    "        time_of_day = \"Late Afternoon\"\n",
    "    elif time >= \"18:00\" and time < \"21:00\":\n",
    "        time_of_day = \"Early Evening\"\n",
    "    elif time >= \"21:00\":\n",
    "        time_of_day = \"Evening\"\n",
    "    else:\n",
    "        time_of_day = \"FAILED\"\n",
    "    return time_of_day\n",
    "\n",
    "detroit_df['day_part'] = detroit_df['call_timestamp'].apply(lambda x: get_daypart(x))\n"
   ]
  },
  {
   "cell_type": "code",
   "execution_count": 9,
   "id": "917960c6-e41b-4f0a-8e4f-e835261752a8",
   "metadata": {},
   "outputs": [
    {
     "data": {
      "text/plain": [
       "array(['Morning', 'Late Morning', 'Afternoon', 'Late Afternoon',\n",
       "       'Early Evening', 'Evening', 'Early Morning'], dtype=object)"
      ]
     },
     "execution_count": 9,
     "metadata": {},
     "output_type": "execute_result"
    }
   ],
   "source": [
    "detroit_df.day_part.unique()"
   ]
  },
  {
   "cell_type": "code",
   "execution_count": 10,
   "id": "1612ec0b-a1f1-477b-95e5-0a99d444d8c6",
   "metadata": {},
   "outputs": [
    {
     "data": {
      "text/html": [
       "<div>\n",
       "<style scoped>\n",
       "    .dataframe tbody tr th:only-of-type {\n",
       "        vertical-align: middle;\n",
       "    }\n",
       "\n",
       "    .dataframe tbody tr th {\n",
       "        vertical-align: top;\n",
       "    }\n",
       "\n",
       "    .dataframe thead th {\n",
       "        text-align: right;\n",
       "    }\n",
       "</style>\n",
       "<table border=\"1\" class=\"dataframe\">\n",
       "  <thead>\n",
       "    <tr style=\"text-align: right;\">\n",
       "      <th></th>\n",
       "      <th>callcode</th>\n",
       "      <th>calldescription</th>\n",
       "      <th>call_timestamp</th>\n",
       "      <th>precinct_sca</th>\n",
       "      <th>officerinitiated</th>\n",
       "      <th>intaketime</th>\n",
       "      <th>dispatchtime</th>\n",
       "      <th>traveltime</th>\n",
       "      <th>time_on_scene</th>\n",
       "      <th>neighborhood</th>\n",
       "      <th>council_district</th>\n",
       "      <th>priority</th>\n",
       "      <th>weekday</th>\n",
       "      <th>day_part</th>\n",
       "    </tr>\n",
       "  </thead>\n",
       "  <tbody>\n",
       "    <tr>\n",
       "      <th>0</th>\n",
       "      <td>825030</td>\n",
       "      <td>DISTURBANCE</td>\n",
       "      <td>2016/09/20 09:36:12+00</td>\n",
       "      <td>910A</td>\n",
       "      <td>No</td>\n",
       "      <td>2.2</td>\n",
       "      <td>528.6</td>\n",
       "      <td>15.5</td>\n",
       "      <td>120.5</td>\n",
       "      <td>Wade</td>\n",
       "      <td>4.0</td>\n",
       "      <td>3</td>\n",
       "      <td>Tuesday</td>\n",
       "      <td>Morning</td>\n",
       "    </tr>\n",
       "    <tr>\n",
       "      <th>1</th>\n",
       "      <td>811020</td>\n",
       "      <td>AUTO X UNK INJ / IMPAIRED</td>\n",
       "      <td>2016/09/20 09:46:32+00</td>\n",
       "      <td>1201</td>\n",
       "      <td>No</td>\n",
       "      <td>2.7</td>\n",
       "      <td>5.2</td>\n",
       "      <td>6.4</td>\n",
       "      <td>59.1</td>\n",
       "      <td>Tri-Point</td>\n",
       "      <td>2.0</td>\n",
       "      <td>2</td>\n",
       "      <td>Tuesday</td>\n",
       "      <td>Morning</td>\n",
       "    </tr>\n",
       "    <tr>\n",
       "      <th>2</th>\n",
       "      <td>374030</td>\n",
       "      <td>RECOVER AUTO</td>\n",
       "      <td>2016/09/20 09:48:24+00</td>\n",
       "      <td>123B</td>\n",
       "      <td>No</td>\n",
       "      <td>4.9</td>\n",
       "      <td>NaN</td>\n",
       "      <td>NaN</td>\n",
       "      <td>NaN</td>\n",
       "      <td>Oak Grove</td>\n",
       "      <td>2.0</td>\n",
       "      <td>3</td>\n",
       "      <td>Tuesday</td>\n",
       "      <td>Morning</td>\n",
       "    </tr>\n",
       "    <tr>\n",
       "      <th>3</th>\n",
       "      <td>825030</td>\n",
       "      <td>DISTURBANCE</td>\n",
       "      <td>2016/09/20 09:50:29+00</td>\n",
       "      <td>0207</td>\n",
       "      <td>No</td>\n",
       "      <td>1.4</td>\n",
       "      <td>3.4</td>\n",
       "      <td>7.6</td>\n",
       "      <td>41.7</td>\n",
       "      <td>We Care Community</td>\n",
       "      <td>7.0</td>\n",
       "      <td>3</td>\n",
       "      <td>Tuesday</td>\n",
       "      <td>Morning</td>\n",
       "    </tr>\n",
       "    <tr>\n",
       "      <th>4</th>\n",
       "      <td>374030</td>\n",
       "      <td>RECOVER AUTO</td>\n",
       "      <td>2016/09/20 09:54:37+00</td>\n",
       "      <td>28A</td>\n",
       "      <td>No</td>\n",
       "      <td>3.0</td>\n",
       "      <td>1645.3</td>\n",
       "      <td>NaN</td>\n",
       "      <td>NaN</td>\n",
       "      <td>Barton-McFarland</td>\n",
       "      <td>7.0</td>\n",
       "      <td>3</td>\n",
       "      <td>Tuesday</td>\n",
       "      <td>Morning</td>\n",
       "    </tr>\n",
       "  </tbody>\n",
       "</table>\n",
       "</div>"
      ],
      "text/plain": [
       "  callcode            calldescription          call_timestamp precinct_sca  \\\n",
       "0   825030                DISTURBANCE  2016/09/20 09:36:12+00         910A   \n",
       "1   811020  AUTO X UNK INJ / IMPAIRED  2016/09/20 09:46:32+00         1201   \n",
       "2   374030               RECOVER AUTO  2016/09/20 09:48:24+00         123B   \n",
       "3   825030                DISTURBANCE  2016/09/20 09:50:29+00         0207   \n",
       "4   374030               RECOVER AUTO  2016/09/20 09:54:37+00         28A    \n",
       "\n",
       "  officerinitiated  intaketime  dispatchtime  traveltime  time_on_scene  \\\n",
       "0               No         2.2         528.6        15.5          120.5   \n",
       "1               No         2.7           5.2         6.4           59.1   \n",
       "2               No         4.9           NaN         NaN            NaN   \n",
       "3               No         1.4           3.4         7.6           41.7   \n",
       "4               No         3.0        1645.3         NaN            NaN   \n",
       "\n",
       "        neighborhood  council_district priority  weekday day_part  \n",
       "0               Wade               4.0        3  Tuesday  Morning  \n",
       "1          Tri-Point               2.0        2  Tuesday  Morning  \n",
       "2          Oak Grove               2.0        3  Tuesday  Morning  \n",
       "3  We Care Community               7.0        3  Tuesday  Morning  \n",
       "4   Barton-McFarland               7.0        3  Tuesday  Morning  "
      ]
     },
     "execution_count": 10,
     "metadata": {},
     "output_type": "execute_result"
    }
   ],
   "source": [
    "detroit_df.head()"
   ]
  },
  {
   "cell_type": "code",
   "execution_count": 11,
   "id": "577c8ed8-c81c-456a-b4b0-1aca78e59556",
   "metadata": {},
   "outputs": [
    {
     "data": {
      "text/html": [
       "<div>\n",
       "<style scoped>\n",
       "    .dataframe tbody tr th:only-of-type {\n",
       "        vertical-align: middle;\n",
       "    }\n",
       "\n",
       "    .dataframe tbody tr th {\n",
       "        vertical-align: top;\n",
       "    }\n",
       "\n",
       "    .dataframe thead th {\n",
       "        text-align: right;\n",
       "    }\n",
       "</style>\n",
       "<table border=\"1\" class=\"dataframe\">\n",
       "  <thead>\n",
       "    <tr style=\"text-align: right;\">\n",
       "      <th></th>\n",
       "      <th>calldescription</th>\n",
       "      <th>officerinitiated</th>\n",
       "      <th>intaketime</th>\n",
       "      <th>dispatchtime</th>\n",
       "      <th>traveltime</th>\n",
       "      <th>time_on_scene</th>\n",
       "      <th>neighborhood</th>\n",
       "      <th>council_district</th>\n",
       "      <th>priority</th>\n",
       "      <th>weekday</th>\n",
       "      <th>day_part</th>\n",
       "    </tr>\n",
       "  </thead>\n",
       "  <tbody>\n",
       "    <tr>\n",
       "      <th>0</th>\n",
       "      <td>DISTURBANCE</td>\n",
       "      <td>No</td>\n",
       "      <td>2.2</td>\n",
       "      <td>528.6</td>\n",
       "      <td>15.5</td>\n",
       "      <td>120.5</td>\n",
       "      <td>Wade</td>\n",
       "      <td>4.0</td>\n",
       "      <td>3</td>\n",
       "      <td>Tuesday</td>\n",
       "      <td>Morning</td>\n",
       "    </tr>\n",
       "    <tr>\n",
       "      <th>1</th>\n",
       "      <td>AUTO X UNK INJ / IMPAIRED</td>\n",
       "      <td>No</td>\n",
       "      <td>2.7</td>\n",
       "      <td>5.2</td>\n",
       "      <td>6.4</td>\n",
       "      <td>59.1</td>\n",
       "      <td>Tri-Point</td>\n",
       "      <td>2.0</td>\n",
       "      <td>2</td>\n",
       "      <td>Tuesday</td>\n",
       "      <td>Morning</td>\n",
       "    </tr>\n",
       "    <tr>\n",
       "      <th>2</th>\n",
       "      <td>RECOVER AUTO</td>\n",
       "      <td>No</td>\n",
       "      <td>4.9</td>\n",
       "      <td>NaN</td>\n",
       "      <td>NaN</td>\n",
       "      <td>NaN</td>\n",
       "      <td>Oak Grove</td>\n",
       "      <td>2.0</td>\n",
       "      <td>3</td>\n",
       "      <td>Tuesday</td>\n",
       "      <td>Morning</td>\n",
       "    </tr>\n",
       "    <tr>\n",
       "      <th>3</th>\n",
       "      <td>DISTURBANCE</td>\n",
       "      <td>No</td>\n",
       "      <td>1.4</td>\n",
       "      <td>3.4</td>\n",
       "      <td>7.6</td>\n",
       "      <td>41.7</td>\n",
       "      <td>We Care Community</td>\n",
       "      <td>7.0</td>\n",
       "      <td>3</td>\n",
       "      <td>Tuesday</td>\n",
       "      <td>Morning</td>\n",
       "    </tr>\n",
       "    <tr>\n",
       "      <th>4</th>\n",
       "      <td>RECOVER AUTO</td>\n",
       "      <td>No</td>\n",
       "      <td>3.0</td>\n",
       "      <td>1645.3</td>\n",
       "      <td>NaN</td>\n",
       "      <td>NaN</td>\n",
       "      <td>Barton-McFarland</td>\n",
       "      <td>7.0</td>\n",
       "      <td>3</td>\n",
       "      <td>Tuesday</td>\n",
       "      <td>Morning</td>\n",
       "    </tr>\n",
       "    <tr>\n",
       "      <th>...</th>\n",
       "      <td>...</td>\n",
       "      <td>...</td>\n",
       "      <td>...</td>\n",
       "      <td>...</td>\n",
       "      <td>...</td>\n",
       "      <td>...</td>\n",
       "      <td>...</td>\n",
       "      <td>...</td>\n",
       "      <td>...</td>\n",
       "      <td>...</td>\n",
       "      <td>...</td>\n",
       "    </tr>\n",
       "    <tr>\n",
       "      <th>2551995</th>\n",
       "      <td>BREAKING AND ENTERING AUTO I/P</td>\n",
       "      <td>No</td>\n",
       "      <td>2.2</td>\n",
       "      <td>19.3</td>\n",
       "      <td>9.1</td>\n",
       "      <td>48.0</td>\n",
       "      <td>Oakman Blvd Community</td>\n",
       "      <td>2.0</td>\n",
       "      <td>3</td>\n",
       "      <td>Monday</td>\n",
       "      <td>Late Morning</td>\n",
       "    </tr>\n",
       "    <tr>\n",
       "      <th>2551996</th>\n",
       "      <td>ONE OVER THE WHEEL</td>\n",
       "      <td>No</td>\n",
       "      <td>1.9</td>\n",
       "      <td>NaN</td>\n",
       "      <td>NaN</td>\n",
       "      <td>NaN</td>\n",
       "      <td>North Corktown</td>\n",
       "      <td>6.0</td>\n",
       "      <td>2</td>\n",
       "      <td>Monday</td>\n",
       "      <td>Late Morning</td>\n",
       "    </tr>\n",
       "    <tr>\n",
       "      <th>2551997</th>\n",
       "      <td>LARCENY I/P OR J/H</td>\n",
       "      <td>No</td>\n",
       "      <td>1.1</td>\n",
       "      <td>20.6</td>\n",
       "      <td>5.1</td>\n",
       "      <td>152.7</td>\n",
       "      <td>Oakman Blvd Community</td>\n",
       "      <td>7.0</td>\n",
       "      <td>3</td>\n",
       "      <td>Monday</td>\n",
       "      <td>Late Morning</td>\n",
       "    </tr>\n",
       "    <tr>\n",
       "      <th>2551998</th>\n",
       "      <td>SHOT OR STABBED DELTA</td>\n",
       "      <td>No</td>\n",
       "      <td>0.9</td>\n",
       "      <td>0.3</td>\n",
       "      <td>7.7</td>\n",
       "      <td>213.3</td>\n",
       "      <td>Warrendale</td>\n",
       "      <td>7.0</td>\n",
       "      <td>1</td>\n",
       "      <td>Monday</td>\n",
       "      <td>Late Morning</td>\n",
       "    </tr>\n",
       "    <tr>\n",
       "      <th>2551999</th>\n",
       "      <td>DISTURBANCE</td>\n",
       "      <td>No</td>\n",
       "      <td>1.2</td>\n",
       "      <td>58.4</td>\n",
       "      <td>16.0</td>\n",
       "      <td>23.0</td>\n",
       "      <td>Pride Area Community</td>\n",
       "      <td>7.0</td>\n",
       "      <td>3</td>\n",
       "      <td>Monday</td>\n",
       "      <td>Late Morning</td>\n",
       "    </tr>\n",
       "  </tbody>\n",
       "</table>\n",
       "<p>2552000 rows × 11 columns</p>\n",
       "</div>"
      ],
      "text/plain": [
       "                        calldescription officerinitiated  intaketime  \\\n",
       "0                           DISTURBANCE               No         2.2   \n",
       "1             AUTO X UNK INJ / IMPAIRED               No         2.7   \n",
       "2                          RECOVER AUTO               No         4.9   \n",
       "3                           DISTURBANCE               No         1.4   \n",
       "4                          RECOVER AUTO               No         3.0   \n",
       "...                                 ...              ...         ...   \n",
       "2551995  BREAKING AND ENTERING AUTO I/P               No         2.2   \n",
       "2551996              ONE OVER THE WHEEL               No         1.9   \n",
       "2551997              LARCENY I/P OR J/H               No         1.1   \n",
       "2551998           SHOT OR STABBED DELTA               No         0.9   \n",
       "2551999                     DISTURBANCE               No         1.2   \n",
       "\n",
       "         dispatchtime  traveltime  time_on_scene           neighborhood  \\\n",
       "0               528.6        15.5          120.5                   Wade   \n",
       "1                 5.2         6.4           59.1              Tri-Point   \n",
       "2                 NaN         NaN            NaN              Oak Grove   \n",
       "3                 3.4         7.6           41.7      We Care Community   \n",
       "4              1645.3         NaN            NaN       Barton-McFarland   \n",
       "...               ...         ...            ...                    ...   \n",
       "2551995          19.3         9.1           48.0  Oakman Blvd Community   \n",
       "2551996           NaN         NaN            NaN         North Corktown   \n",
       "2551997          20.6         5.1          152.7  Oakman Blvd Community   \n",
       "2551998           0.3         7.7          213.3             Warrendale   \n",
       "2551999          58.4        16.0           23.0   Pride Area Community   \n",
       "\n",
       "         council_district priority  weekday      day_part  \n",
       "0                     4.0        3  Tuesday       Morning  \n",
       "1                     2.0        2  Tuesday       Morning  \n",
       "2                     2.0        3  Tuesday       Morning  \n",
       "3                     7.0        3  Tuesday       Morning  \n",
       "4                     7.0        3  Tuesday       Morning  \n",
       "...                   ...      ...      ...           ...  \n",
       "2551995               2.0        3   Monday  Late Morning  \n",
       "2551996               6.0        2   Monday  Late Morning  \n",
       "2551997               7.0        3   Monday  Late Morning  \n",
       "2551998               7.0        1   Monday  Late Morning  \n",
       "2551999               7.0        3   Monday  Late Morning  \n",
       "\n",
       "[2552000 rows x 11 columns]"
      ]
     },
     "execution_count": 11,
     "metadata": {},
     "output_type": "execute_result"
    }
   ],
   "source": [
    "detroit_df.drop(columns = ['callcode','call_timestamp','precinct_sca'], inplace = True)\n",
    "detroit_df"
   ]
  },
  {
   "cell_type": "code",
   "execution_count": 12,
   "id": "0026dd46-3089-40b5-a23e-827753935767",
   "metadata": {},
   "outputs": [
    {
     "data": {
      "text/html": [
       "<div>\n",
       "<style scoped>\n",
       "    .dataframe tbody tr th:only-of-type {\n",
       "        vertical-align: middle;\n",
       "    }\n",
       "\n",
       "    .dataframe tbody tr th {\n",
       "        vertical-align: top;\n",
       "    }\n",
       "\n",
       "    .dataframe thead th {\n",
       "        text-align: right;\n",
       "    }\n",
       "</style>\n",
       "<table border=\"1\" class=\"dataframe\">\n",
       "  <thead>\n",
       "    <tr style=\"text-align: right;\">\n",
       "      <th></th>\n",
       "      <th>calldescription</th>\n",
       "      <th>officerinitiated</th>\n",
       "      <th>intaketime</th>\n",
       "      <th>dispatchtime</th>\n",
       "      <th>traveltime</th>\n",
       "      <th>time_on_scene</th>\n",
       "      <th>neighborhood</th>\n",
       "      <th>council_district</th>\n",
       "      <th>priority</th>\n",
       "      <th>weekday</th>\n",
       "      <th>day_part</th>\n",
       "    </tr>\n",
       "  </thead>\n",
       "  <tbody>\n",
       "  </tbody>\n",
       "</table>\n",
       "</div>"
      ],
      "text/plain": [
       "Empty DataFrame\n",
       "Columns: [calldescription, officerinitiated, intaketime, dispatchtime, traveltime, time_on_scene, neighborhood, council_district, priority, weekday, day_part]\n",
       "Index: []"
      ]
     },
     "execution_count": 12,
     "metadata": {},
     "output_type": "execute_result"
    }
   ],
   "source": [
    "detroit_df[(detroit_df[detroit_df.columns[10]] == ' ')]"
   ]
  },
  {
   "cell_type": "code",
   "execution_count": 13,
   "id": "b92db97d-4e4e-464a-b9d1-e11bedbcd4d7",
   "metadata": {},
   "outputs": [],
   "source": [
    "detroit_df['on_scene_2_hours'] = detroit_df['time_on_scene'].apply(lambda x: 1 if x > 32.76 else 0)"
   ]
  },
  {
   "cell_type": "code",
   "execution_count": 14,
   "id": "555a69b5-d3a6-49cc-b628-20261264b208",
   "metadata": {},
   "outputs": [],
   "source": [
    "detroit_df.drop(columns = ['time_on_scene'], inplace = True)"
   ]
  },
  {
   "cell_type": "code",
   "execution_count": 15,
   "id": "fb75c03f-a356-499f-b74c-deef09bf4e03",
   "metadata": {},
   "outputs": [],
   "source": [
    "X = detroit_df.drop(columns = ['on_scene_2_hours']).copy()"
   ]
  },
  {
   "cell_type": "code",
   "execution_count": 16,
   "id": "6dcb4b32-f212-4a1e-af50-33e1abc0c024",
   "metadata": {},
   "outputs": [],
   "source": [
    "y_res = detroit_df['on_scene_2_hours'].copy()"
   ]
  },
  {
   "cell_type": "code",
   "execution_count": 17,
   "id": "6f1380a4-6eae-4382-8034-2a3692d5ed58",
   "metadata": {},
   "outputs": [],
   "source": [
    "X_encoded = pd.get_dummies(X)\n",
    "# detroit_dummied.shape\n",
    "\n",
    "# It is better to use One-Hot-Encoding than get_dummies because OHE saves the exploded categories into its object, but we are using get_dummies for ease\n",
    "\n"
   ]
  },
  {
   "cell_type": "code",
   "execution_count": 18,
   "id": "e109b97c-5024-4808-ad56-ad482ff0abd5",
   "metadata": {},
   "outputs": [],
   "source": [
    "X_encoded.fillna(0, inplace = True)"
   ]
  },
  {
   "cell_type": "markdown",
   "id": "2347dd2b-d2cd-41f6-aef9-5b1e8b25af3a",
   "metadata": {},
   "source": [
    "# From this point on try the Logistic Regression"
   ]
  },
  {
   "cell_type": "code",
   "execution_count": 19,
   "id": "be25f7e0-9b7d-4bd7-9505-112e1a3488b1",
   "metadata": {},
   "outputs": [
    {
     "name": "stdout",
     "output_type": "stream",
     "text": [
      "0.790944618599791\n"
     ]
    }
   ],
   "source": [
    "X_test, X_train, y_test, y_train = train_test_split(X_encoded, y_res, test_size=0.25, random_state = 1)\n",
    "\n",
    "log_reg = LogisticRegression(max_iter = 10000)\n",
    "\n",
    "log_reg.fit(X_train, y_train)\n",
    "log_coef = log_reg.coef_\n",
    "log_intercept = log_reg.intercept_\n",
    "\n",
    "score = log_reg.score(X_test, y_test)\n",
    "print(score)\n",
    "\n",
    "predictions = log_reg.predict(X_test)"
   ]
  },
  {
   "cell_type": "markdown",
   "id": "fa58d750",
   "metadata": {},
   "source": [
    "#### Confusion Matrix"
   ]
  },
  {
   "cell_type": "code",
   "execution_count": 23,
   "id": "8fef7d48",
   "metadata": {},
   "outputs": [
    {
     "data": {
      "text/plain": [
       "<sklearn.metrics._plot.confusion_matrix.ConfusionMatrixDisplay at 0x25acac121f0>"
      ]
     },
     "execution_count": 23,
     "metadata": {},
     "output_type": "execute_result"
    },
    {
     "data": {
      "image/png": "[encoded data removed]",
      "text/plain": [
       "<Figure size 432x288 with 2 Axes>"
      ]
     },
     "metadata": {
      "needs_background": "light"
     },
     "output_type": "display_data"
    }
   ],
   "source": [
    "plot_confusion_matrix(log_reg, X_test, y_test, values_format='d', display_labels=['no', 'yes'], cmap=\"OrRd\")\n",
    "#plot_confusion_matrix(xgb_reg, X_test, y_test, values_format='d', display_labels=['no', 'yes'])"
   ]
  },
  {
   "cell_type": "code",
   "execution_count": 29,
   "id": "a2aed11c",
   "metadata": {},
   "outputs": [
    {
     "name": "stdout",
     "output_type": "stream",
     "text": [
      "[[1398077   71931]\n",
      " [ 328201  115791]]\n"
     ]
    },
    {
     "data": {
      "image/png": "[encoded data removed]",
      "text/plain": [
       "<Figure size 432x288 with 2 Axes>"
      ]
     },
     "metadata": {
      "needs_background": "light"
     },
     "output_type": "display_data"
    }
   ],
   "source": [
    "#Generate the confusion matrix\n",
    "from sklearn.metrics import confusion_matrix\n",
    "cf_matrix = confusion_matrix(y_test, predictions)\n",
    "\n",
    "print(cf_matrix)\n",
    "ax = sns.heatmap(cf_matrix/np.sum(cf_matrix), annot=True, \n",
    "            fmt='.2%', cmap='Blues')\n",
    "\n",
    "ax.set_title('Logistical Regression Confusion Matrix\\n\\n');\n",
    "ax.set_xlabel('\\nPredicted Values')\n",
    "ax.set_ylabel('Actual Values ');\n",
    "\n",
    "## Ticket labels - List must be in alphabetical order\n",
    "ax.xaxis.set_ticklabels(['Under 32.7 Minutes','Over 32.7 Minutes'])\n",
    "ax.yaxis.set_ticklabels(['Under 32.7 Minutes','Over 32.7 Minutes'])\n",
    "\n",
    "## Display the visualization of the Confusion Matrix.\n",
    "plt.show()"
   ]
  },
  {
   "cell_type": "code",
   "execution_count": null,
   "id": "a287a1cf",
   "metadata": {},
   "outputs": [],
   "source": []
  }
 ],
 "metadata": {
  "kernelspec": {
   "display_name": "Python 3 (ipykernel)",
   "language": "python",
   "name": "python3"
  },
  "language_info": {
   "codemirror_mode": {
    "name": "ipython",
    "version": 3
   },
   "file_extension": ".py",
   "mimetype": "text/x-python",
   "name": "python",
   "nbconvert_exporter": "python",
   "pygments_lexer": "ipython3",
   "version": "3.9.7"
  }
 },
 "nbformat": 4,
 "nbformat_minor": 5
}
