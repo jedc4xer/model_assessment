{
 "cells": [
  {
   "cell_type": "code",
   "execution_count": 1,
   "id": "c8c1d394-ef01-4894-8460-ddc48625bbee",
   "metadata": {},
   "outputs": [],
   "source": [
    "import pandas as pd\n",
    "import matplotlib.pyplot as plt\n",
    "import seaborn as sns\n",
    "import time\n",
    "import xgboost as xgb\n",
    "from sklearn.model_selection import train_test_split\n",
    "import datetime as dt\n",
    "from sklearn.preprocessing import LabelEncoder\n",
    "from sklearn.preprocessing import OneHotEncoder\n",
    "import numpy as np\n",
    "from sklearn.metrics import r2_score\n",
    "\n",
    "# https://machinelearningmastery.com/data-preparation-gradient-boosting-xgboost-python/"
   ]
  },
  {
   "cell_type": "code",
   "execution_count": 2,
   "id": "06a68b58-ddc8-4752-a70e-61ac62751473",
   "metadata": {},
   "outputs": [
    {
     "name": "stdout",
     "output_type": "stream",
     "text": [
      "169.20148369999998\n"
     ]
    }
   ],
   "source": [
    "path1 = 'https://gen10datafund2202.blob.core.windows.net/jedscontainer/911_Calls_For_Service.csv'\n",
    "path2 = 'https://opendata.arcgis.com/api/v3/datasets/4f49eb825f564efa9a23cd103c4ba13b_0/downloads/data?format=csv&spatialRefId=4326'\n",
    "start = time.perf_counter()\n",
    "detroit_911 = pd.read_csv(path1, thousands = \",\", nrows = 100000)\n",
    "print(time.perf_counter() - start)"
   ]
  },
  {
   "cell_type": "markdown",
   "id": "d5952704-c9a4-479a-bfb4-5f870ea7c21a",
   "metadata": {},
   "source": [
    "## Clean the Data"
   ]
  },
  {
   "cell_type": "code",
   "execution_count": 3,
   "id": "88bc0c49-b0bf-41c6-bbb7-6c43c1305bbc",
   "metadata": {},
   "outputs": [],
   "source": [
    "# Make a copy of the dataframe so that I don't have to redownload it every time I want to refresh.\n",
    "detroit_df = detroit_911.copy()\n",
    "\n",
    "# Count all the null values in the columns\n",
    "null_values = detroit_911.isnull().sum()\n",
    "#print('Null values prior to dropping columns.')\n",
    "#print(null_values)\n",
    "\n",
    "# Drop columns that will not be used in algorithm\n",
    "detroit_df.drop(\n",
    "    columns = [\n",
    "        'incident_id',\n",
    "        'zip_code',\n",
    "        'oid',\n",
    "        'respondingunit',\n",
    "        'agency',\n",
    "        'X',\n",
    "        'Y',\n",
    "        'longitude',\n",
    "        'latitude',\n",
    "        'incident_address',\n",
    "        'block_id',\n",
    "        'category'\n",
    "    ], inplace = True)\n",
    "\n",
    "#print('\\nNull values after dropping columns')\n",
    "#print(detroit_df.isnull().sum())\n",
    "\n",
    "\n",
    "mapped_priorities = detroit_df.groupby(by = ['priority'])['calldescription'].apply(lambda x: ', '.join(x)).reset_index()\n",
    "mapped_priorities['calldescription'] = mapped_priorities['calldescription'].apply(lambda x: \", \".join(_.strip() for _ in set(x.split(\",\"))))"
   ]
  },
  {
   "cell_type": "markdown",
   "id": "409b62ea-d1cc-4591-b91a-15ebca859eac",
   "metadata": {},
   "source": [
    "### Fix Missing Priorities"
   ]
  },
  {
   "cell_type": "code",
   "execution_count": 4,
   "id": "b696114a-55cd-46b1-b6da-5b0643b09328",
   "metadata": {},
   "outputs": [],
   "source": [
    "priority_dict = {}\n",
    "for priority in mapped_priorities['priority'].unique():\n",
    "    priority_dict[priority] = mapped_priorities[(mapped_priorities.priority == priority)]['calldescription'].values.tolist()[0]\n",
    "\n",
    "del priority_dict[\" \"]\n",
    "\n",
    "def get_priority(current_priority, call_descrip):\n",
    "    if current_priority != \" \":\n",
    "        return current_priority\n",
    "    for key in priority_dict.keys():\n",
    "        if call_descrip in priority_dict[key]:\n",
    "            return key\n",
    "        \n",
    "    return 'FAIL'\n",
    "\n",
    "detroit_df['new_priority'] = detroit_df.apply(lambda row: get_priority(row.priority, row.calldescription), axis = 1)\n",
    "\n",
    "detroit_df.drop(columns = ['priority'], inplace = True)\n",
    "detroit_df.rename(columns = {'new_priority': 'priority'}, inplace = True)\n"
   ]
  },
  {
   "cell_type": "code",
   "execution_count": 5,
   "id": "027e3cad-dfae-4144-ac65-eaa7275864c5",
   "metadata": {},
   "outputs": [],
   "source": [
    "# for column in detroit_df.columns:\n",
    "#     print(f'{column}\\nNumber of Values: {len(detroit_df[column].unique())}\\n')"
   ]
  },
  {
   "cell_type": "code",
   "execution_count": 6,
   "id": "aea85101-7688-40bc-90b1-aff3eafa1851",
   "metadata": {},
   "outputs": [],
   "source": [
    "detroit_df.drop(columns = ['totaltime','totalresponsetime'], inplace = True)\n"
   ]
  },
  {
   "cell_type": "markdown",
   "id": "2157936a-452b-4dd8-9777-183220a23397",
   "metadata": {},
   "source": [
    "### Convert timestamp to weekday"
   ]
  },
  {
   "cell_type": "code",
   "execution_count": 7,
   "id": "3d4a1d57-2618-4358-aed8-3fa30d084366",
   "metadata": {},
   "outputs": [],
   "source": [
    "def return_weekday(time_stamp):\n",
    "    time = dt.datetime.strptime(time_stamp, '%Y/%m/%d %H:%M:%S+00').date()\n",
    "    return dt.datetime.strftime(time, '%A')\n",
    "    \n",
    "detroit_df['weekday'] = detroit_df['call_timestamp'].apply(lambda x: return_weekday(x))"
   ]
  },
  {
   "cell_type": "code",
   "execution_count": 8,
   "id": "a191f9c9-1a6e-41b3-a2ab-1e0ac7b58929",
   "metadata": {},
   "outputs": [],
   "source": [
    "detroit_df.drop(columns = ['callcode','calldescription','call_timestamp'], inplace = True)\n",
    "detroit_df.drop(columns = ['precinct_sca','neighborhood'], inplace = True)\n",
    "detroit_df.dropna(subset = ['time_on_scene'], inplace = True)"
   ]
  },
  {
   "cell_type": "code",
   "execution_count": 10,
   "id": "f5c1ab47-aed6-4177-9c53-dee7c10c583c",
   "metadata": {},
   "outputs": [
    {
     "data": {
      "text/html": [
       "<div>\n",
       "<style scoped>\n",
       "    .dataframe tbody tr th:only-of-type {\n",
       "        vertical-align: middle;\n",
       "    }\n",
       "\n",
       "    .dataframe tbody tr th {\n",
       "        vertical-align: top;\n",
       "    }\n",
       "\n",
       "    .dataframe thead th {\n",
       "        text-align: right;\n",
       "    }\n",
       "</style>\n",
       "<table border=\"1\" class=\"dataframe\">\n",
       "  <thead>\n",
       "    <tr style=\"text-align: right;\">\n",
       "      <th></th>\n",
       "      <th>officerinitiated</th>\n",
       "      <th>intaketime</th>\n",
       "      <th>dispatchtime</th>\n",
       "      <th>traveltime</th>\n",
       "      <th>time_on_scene</th>\n",
       "      <th>council_district</th>\n",
       "      <th>priority</th>\n",
       "      <th>weekday</th>\n",
       "    </tr>\n",
       "  </thead>\n",
       "  <tbody>\n",
       "    <tr>\n",
       "      <th>0</th>\n",
       "      <td>No</td>\n",
       "      <td>2.2</td>\n",
       "      <td>528.6</td>\n",
       "      <td>15.5</td>\n",
       "      <td>120.5</td>\n",
       "      <td>4.0</td>\n",
       "      <td>3</td>\n",
       "      <td>Tuesday</td>\n",
       "    </tr>\n",
       "    <tr>\n",
       "      <th>1</th>\n",
       "      <td>No</td>\n",
       "      <td>2.7</td>\n",
       "      <td>5.2</td>\n",
       "      <td>6.4</td>\n",
       "      <td>59.1</td>\n",
       "      <td>2.0</td>\n",
       "      <td>2</td>\n",
       "      <td>Tuesday</td>\n",
       "    </tr>\n",
       "    <tr>\n",
       "      <th>3</th>\n",
       "      <td>No</td>\n",
       "      <td>1.4</td>\n",
       "      <td>3.4</td>\n",
       "      <td>7.6</td>\n",
       "      <td>41.7</td>\n",
       "      <td>7.0</td>\n",
       "      <td>3</td>\n",
       "      <td>Tuesday</td>\n",
       "    </tr>\n",
       "    <tr>\n",
       "      <th>5</th>\n",
       "      <td>No</td>\n",
       "      <td>3.5</td>\n",
       "      <td>9.9</td>\n",
       "      <td>5.5</td>\n",
       "      <td>6.4</td>\n",
       "      <td>5.0</td>\n",
       "      <td>2</td>\n",
       "      <td>Tuesday</td>\n",
       "    </tr>\n",
       "    <tr>\n",
       "      <th>6</th>\n",
       "      <td>No</td>\n",
       "      <td>1.0</td>\n",
       "      <td>152.8</td>\n",
       "      <td>5.2</td>\n",
       "      <td>42.4</td>\n",
       "      <td>2.0</td>\n",
       "      <td>2</td>\n",
       "      <td>Tuesday</td>\n",
       "    </tr>\n",
       "  </tbody>\n",
       "</table>\n",
       "</div>"
      ],
      "text/plain": [
       "  officerinitiated  intaketime  dispatchtime  traveltime  time_on_scene  \\\n",
       "0               No         2.2         528.6        15.5          120.5   \n",
       "1               No         2.7           5.2         6.4           59.1   \n",
       "3               No         1.4           3.4         7.6           41.7   \n",
       "5               No         3.5           9.9         5.5            6.4   \n",
       "6               No         1.0         152.8         5.2           42.4   \n",
       "\n",
       "   council_district priority  weekday  \n",
       "0               4.0        3  Tuesday  \n",
       "1               2.0        2  Tuesday  \n",
       "3               7.0        3  Tuesday  \n",
       "5               5.0        2  Tuesday  \n",
       "6               2.0        2  Tuesday  "
      ]
     },
     "execution_count": 10,
     "metadata": {},
     "output_type": "execute_result"
    }
   ],
   "source": [
    "detroit_df.head()"
   ]
  },
  {
   "cell_type": "code",
   "execution_count": 11,
   "id": "6f1380a4-6eae-4382-8034-2a3692d5ed58",
   "metadata": {},
   "outputs": [
    {
     "data": {
      "text/plain": [
       "(84931, 18)"
      ]
     },
     "execution_count": 11,
     "metadata": {},
     "output_type": "execute_result"
    }
   ],
   "source": [
    "detroit_dummied = pd.get_dummies(detroit_df, drop_first = True)\n",
    "detroit_dummied.shape"
   ]
  },
  {
   "cell_type": "code",
   "execution_count": 79,
   "id": "5f845a04-827e-41b3-876e-5c037e1d6489",
   "metadata": {},
   "outputs": [
    {
     "name": "stdout",
     "output_type": "stream",
     "text": [
      "[07:52:10] WARNING: D:\\bld\\xgboost-split_1645118015404\\work\\src\\learner.cc:576: \n",
      "Parameters: { \"silent\" } might not be used.\n",
      "\n",
      "  This could be a false alarm, with some parameters getting used by language bindings but\n",
      "  then being mistakenly passed down to XGBoost core, or some parameter actually being used\n",
      "  but getting flagged wrongly here. Please open an issue if you find any such cases.\n",
      "\n",
      "\n",
      "[07:52:10] WARNING: D:\\bld\\xgboost-split_1645118015404\\work\\src\\learner.cc:576: \n",
      "Parameters: { \"silent\" } might not be used.\n",
      "\n",
      "  This could be a false alarm, with some parameters getting used by language bindings but\n",
      "  then being mistakenly passed down to XGBoost core, or some parameter actually being used\n",
      "  but getting flagged wrongly here. Please open an issue if you find any such cases.\n",
      "\n",
      "\n",
      "[07:52:10] WARNING: D:\\bld\\xgboost-split_1645118015404\\work\\src\\learner.cc:576: \n",
      "Parameters: { \"silent\" } might not be used.\n",
      "\n",
      "  This could be a false alarm, with some parameters getting used by language bindings but\n",
      "  then being mistakenly passed down to XGBoost core, or some parameter actually being used\n",
      "  but getting flagged wrongly here. Please open an issue if you find any such cases.\n",
      "\n",
      "\n",
      "[07:52:10] WARNING: D:\\bld\\xgboost-split_1645118015404\\work\\src\\learner.cc:576: \n",
      "Parameters: { \"silent\" } might not be used.\n",
      "\n",
      "  This could be a false alarm, with some parameters getting used by language bindings but\n",
      "  then being mistakenly passed down to XGBoost core, or some parameter actually being used\n",
      "  but getting flagged wrongly here. Please open an issue if you find any such cases.\n",
      "\n",
      "\n",
      "[07:52:10] WARNING: D:\\bld\\xgboost-split_1645118015404\\work\\src\\learner.cc:576: \n",
      "Parameters: { \"silent\" } might not be used.\n",
      "\n",
      "  This could be a false alarm, with some parameters getting used by language bindings but\n",
      "  then being mistakenly passed down to XGBoost core, or some parameter actually being used\n",
      "  but getting flagged wrongly here. Please open an issue if you find any such cases.\n",
      "\n",
      "\n",
      "[07:52:10] WARNING: D:\\bld\\xgboost-split_1645118015404\\work\\src\\learner.cc:576: \n",
      "Parameters: { \"silent\" } might not be used.\n",
      "\n",
      "  This could be a false alarm, with some parameters getting used by language bindings but\n",
      "  then being mistakenly passed down to XGBoost core, or some parameter actually being used\n",
      "  but getting flagged wrongly here. Please open an issue if you find any such cases.\n",
      "\n",
      "\n",
      "[07:52:10] WARNING: D:\\bld\\xgboost-split_1645118015404\\work\\src\\learner.cc:576: \n",
      "Parameters: { \"silent\" } might not be used.\n",
      "\n",
      "  This could be a false alarm, with some parameters getting used by language bindings but\n",
      "  then being mistakenly passed down to XGBoost core, or some parameter actually being used\n",
      "  but getting flagged wrongly here. Please open an issue if you find any such cases.\n",
      "\n",
      "\n",
      "[07:52:11] WARNING: D:\\bld\\xgboost-split_1645118015404\\work\\src\\learner.cc:576: \n",
      "Parameters: { \"silent\" } might not be used.\n",
      "\n",
      "  This could be a false alarm, with some parameters getting used by language bindings but\n",
      "  then being mistakenly passed down to XGBoost core, or some parameter actually being used\n",
      "  but getting flagged wrongly here. Please open an issue if you find any such cases.\n",
      "\n",
      "\n",
      "[07:52:11] WARNING: D:\\bld\\xgboost-split_1645118015404\\work\\src\\learner.cc:576: \n",
      "Parameters: { \"silent\" } might not be used.\n",
      "\n",
      "  This could be a false alarm, with some parameters getting used by language bindings but\n",
      "  then being mistakenly passed down to XGBoost core, or some parameter actually being used\n",
      "  but getting flagged wrongly here. Please open an issue if you find any such cases.\n",
      "\n",
      "\n",
      "[07:52:12] WARNING: D:\\bld\\xgboost-split_1645118015404\\work\\src\\learner.cc:576: \n",
      "Parameters: { \"silent\" } might not be used.\n",
      "\n",
      "  This could be a false alarm, with some parameters getting used by language bindings but\n",
      "  then being mistakenly passed down to XGBoost core, or some parameter actually being used\n",
      "  but getting flagged wrongly here. Please open an issue if you find any such cases.\n",
      "\n",
      "\n",
      "[07:52:12] WARNING: D:\\bld\\xgboost-split_1645118015404\\work\\src\\learner.cc:576: \n",
      "Parameters: { \"silent\" } might not be used.\n",
      "\n",
      "  This could be a false alarm, with some parameters getting used by language bindings but\n",
      "  then being mistakenly passed down to XGBoost core, or some parameter actually being used\n",
      "  but getting flagged wrongly here. Please open an issue if you find any such cases.\n",
      "\n",
      "\n",
      "[07:52:13] WARNING: D:\\bld\\xgboost-split_1645118015404\\work\\src\\learner.cc:576: \n",
      "Parameters: { \"silent\" } might not be used.\n",
      "\n",
      "  This could be a false alarm, with some parameters getting used by language bindings but\n",
      "  then being mistakenly passed down to XGBoost core, or some parameter actually being used\n",
      "  but getting flagged wrongly here. Please open an issue if you find any such cases.\n",
      "\n",
      "\n"
     ]
    }
   ],
   "source": [
    "scores = []\n",
    "\n",
    "for size in [100,1000,10000,20000,30000,40000,50000,60000,70000,80000,90000,100000]:\n",
    "    subset = detroit_dummied.head(size)\n",
    "\n",
    "    ## converting to numpy array\n",
    "    subset_np_target = subset[['time_on_scene']].to_numpy()\n",
    "    subset_np_data = subset.drop(columns = ['time_on_scene']).to_numpy()\n",
    "\n",
    "    X = subset_np_data\n",
    "    y = subset_np_target\n",
    "\n",
    "    X_train, X_test, y_train, y_test = train_test_split(X, y, test_size = 0.2, random_state = 42)\n",
    "\n",
    "    dtrain = xgb.DMatrix(X_train, label=y_train)\n",
    "    dtest = xgb.DMatrix(X_test, label=y_test)\n",
    "\n",
    "    param = {\n",
    "        'max_depth': 3,  # the maximum depth of each tree\n",
    "        'eta': 0.3,  # the training step for each iteration\n",
    "        'silent': 1,  # logging mode - quiet\n",
    "        #'objective': 'multi:softmax',  # error evaluation for multiclass training\n",
    "        #'num_class': 569  # the number of classes that exist in this datset\n",
    "    }\n",
    "\n",
    "    bst = xgb.train(param, dtrain, 20)\n",
    "\n",
    "    preds = bst.predict(dtest)\n",
    "\n",
    "    prediction_frame = pd.DataFrame(y_test, columns = ['ground_truth'])\n",
    "\n",
    "    prediction_frame['prediction'] = preds\n",
    "\n",
    "\n",
    "\n",
    "    preds = [round(value) for value in preds]\n",
    "    accuracy = r2_score(y_test, preds)\n",
    "    scores.append([size,accuracy])"
   ]
  },
  {
   "cell_type": "code",
   "execution_count": 80,
   "id": "c3bf4bb1-b39b-4c85-ab08-8cd729ad2cf4",
   "metadata": {},
   "outputs": [],
   "source": [
    "import matplotlib.pyplot as plt\n",
    "import seaborn as sns\n",
    "\n",
    "\n",
    "score_frame = pd.DataFrame(scores, columns = ['size','accuracy'])"
   ]
  },
  {
   "cell_type": "code",
   "execution_count": 102,
   "id": "88db85ba-adf1-4944-8010-d0f6c9e8f07d",
   "metadata": {},
   "outputs": [
    {
     "data": {
      "image/png": "[encoded data removed]",
      "text/plain": [
       "<Figure size 864x360 with 1 Axes>"
      ]
     },
     "metadata": {
      "needs_background": "light"
     },
     "output_type": "display_data"
    }
   ],
   "source": [
    "fig = plt.figure(figsize = (12,5))\n",
    "plt.title(\"Accuracy vs. Number of Observations\", fontsize = 22)\n",
    "\n",
    "ax = sns.scatterplot(data = score_frame, x = 'size', y = 'accuracy', s = 180, alpha = .8, edgecolor = 'black', color = 'red')\n",
    "\n",
    "ax.set_xlabel('Number of Observations', fontsize = 15)\n",
    "ax.set_ylabel('Accuracy', fontsize = 15)\n",
    "ax.tick_params(size = 10)\n",
    "ax.set_xlim([-1000,110000])\n",
    "ax.set_ylim([-.1,.1])\n",
    "sns.despine()\n"
   ]
  },
  {
   "cell_type": "code",
   "execution_count": null,
   "id": "b1fa3f47-0337-4d5e-8851-f02edd213263",
   "metadata": {},
   "outputs": [],
   "source": []
  }
 ],
 "metadata": {
  "kernelspec": {
   "display_name": "Python 3 (ipykernel)",
   "language": "python",
   "name": "python3"
  },
  "language_info": {
   "codemirror_mode": {
    "name": "ipython",
    "version": 3
   },
   "file_extension": ".py",
   "mimetype": "text/x-python",
   "name": "python",
   "nbconvert_exporter": "python",
   "pygments_lexer": "ipython3",
   "version": "3.9.7"
  }
 },
 "nbformat": 4,
 "nbformat_minor": 5
}
