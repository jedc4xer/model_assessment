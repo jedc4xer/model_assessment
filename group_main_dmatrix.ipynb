{
 "cells": [
  {
   "cell_type": "code",
   "execution_count": 1,
   "id": "c8c1d394-ef01-4894-8460-ddc48625bbee",
   "metadata": {},
   "outputs": [],
   "source": [
    "import pandas as pd\n",
    "import matplotlib.pyplot as plt\n",
    "import seaborn as sns\n",
    "import time\n",
    "import xgboost as xgb\n",
    "from sklearn.model_selection import train_test_split\n",
    "import datetime as dt\n",
    "from sklearn.preprocessing import LabelEncoder\n",
    "from sklearn.preprocessing import OneHotEncoder\n",
    "import numpy as np\n",
    "\n",
    "# https://machinelearningmastery.com/data-preparation-gradient-boosting-xgboost-python/"
   ]
  },
  {
   "cell_type": "code",
   "execution_count": 2,
   "id": "06a68b58-ddc8-4752-a70e-61ac62751473",
   "metadata": {},
   "outputs": [
    {
     "name": "stdout",
     "output_type": "stream",
     "text": [
      "169.20148369999998\n"
     ]
    }
   ],
   "source": [
    "path1 = 'https://gen10datafund2202.blob.core.windows.net/jedscontainer/911_Calls_For_Service.csv'\n",
    "path2 = 'https://opendata.arcgis.com/api/v3/datasets/4f49eb825f564efa9a23cd103c4ba13b_0/downloads/data?format=csv&spatialRefId=4326'\n",
    "start = time.perf_counter()\n",
    "detroit_911 = pd.read_csv(path1, thousands = \",\", nrows = 100000)\n",
    "print(time.perf_counter() - start)"
   ]
  },
  {
   "cell_type": "markdown",
   "id": "d5952704-c9a4-479a-bfb4-5f870ea7c21a",
   "metadata": {},
   "source": [
    "## Clean the Data"
   ]
  },
  {
   "cell_type": "code",
   "execution_count": 3,
   "id": "88bc0c49-b0bf-41c6-bbb7-6c43c1305bbc",
   "metadata": {},
   "outputs": [],
   "source": [
    "# Make a copy of the dataframe so that I don't have to redownload it every time I want to refresh.\n",
    "detroit_df = detroit_911.copy()\n",
    "\n",
    "# Count all the null values in the columns\n",
    "null_values = detroit_911.isnull().sum()\n",
    "#print('Null values prior to dropping columns.')\n",
    "#print(null_values)\n",
    "\n",
    "# Drop columns that will not be used in algorithm\n",
    "detroit_df.drop(\n",
    "    columns = [\n",
    "        'incident_id',\n",
    "        'zip_code',\n",
    "        'oid',\n",
    "        'respondingunit',\n",
    "        'agency',\n",
    "        'X',\n",
    "        'Y',\n",
    "        'longitude',\n",
    "        'latitude',\n",
    "        'incident_address',\n",
    "        'block_id',\n",
    "        'category'\n",
    "    ], inplace = True)\n",
    "\n",
    "#print('\\nNull values after dropping columns')\n",
    "#print(detroit_df.isnull().sum())\n",
    "\n",
    "\n",
    "mapped_priorities = detroit_df.groupby(by = ['priority'])['calldescription'].apply(lambda x: ', '.join(x)).reset_index()\n",
    "mapped_priorities['calldescription'] = mapped_priorities['calldescription'].apply(lambda x: \", \".join(_.strip() for _ in set(x.split(\",\"))))"
   ]
  },
  {
   "cell_type": "markdown",
   "id": "409b62ea-d1cc-4591-b91a-15ebca859eac",
   "metadata": {},
   "source": [
    "### Fix Missing Priorities"
   ]
  },
  {
   "cell_type": "code",
   "execution_count": 4,
   "id": "b696114a-55cd-46b1-b6da-5b0643b09328",
   "metadata": {},
   "outputs": [],
   "source": [
    "priority_dict = {}\n",
    "for priority in mapped_priorities['priority'].unique():\n",
    "    priority_dict[priority] = mapped_priorities[(mapped_priorities.priority == priority)]['calldescription'].values.tolist()[0]\n",
    "\n",
    "del priority_dict[\" \"]\n",
    "\n",
    "def get_priority(current_priority, call_descrip):\n",
    "    if current_priority != \" \":\n",
    "        return current_priority\n",
    "    for key in priority_dict.keys():\n",
    "        if call_descrip in priority_dict[key]:\n",
    "            return key\n",
    "        \n",
    "    return 'FAIL'\n",
    "\n",
    "detroit_df['new_priority'] = detroit_df.apply(lambda row: get_priority(row.priority, row.calldescription), axis = 1)\n",
    "\n",
    "detroit_df.drop(columns = ['priority'], inplace = True)\n",
    "detroit_df.rename(columns = {'new_priority': 'priority'}, inplace = True)\n"
   ]
  },
  {
   "cell_type": "code",
   "execution_count": 5,
   "id": "027e3cad-dfae-4144-ac65-eaa7275864c5",
   "metadata": {},
   "outputs": [],
   "source": [
    "# for column in detroit_df.columns:\n",
    "#     print(f'{column}\\nNumber of Values: {len(detroit_df[column].unique())}\\n')"
   ]
  },
  {
   "cell_type": "code",
   "execution_count": 6,
   "id": "aea85101-7688-40bc-90b1-aff3eafa1851",
   "metadata": {},
   "outputs": [],
   "source": [
    "detroit_df.drop(columns = ['totaltime','totalresponsetime'], inplace = True)\n"
   ]
  },
  {
   "cell_type": "markdown",
   "id": "2157936a-452b-4dd8-9777-183220a23397",
   "metadata": {},
   "source": [
    "### Convert timestamp to weekday"
   ]
  },
  {
   "cell_type": "code",
   "execution_count": 7,
   "id": "3d4a1d57-2618-4358-aed8-3fa30d084366",
   "metadata": {},
   "outputs": [],
   "source": [
    "def return_weekday(time_stamp):\n",
    "    time = dt.datetime.strptime(time_stamp, '%Y/%m/%d %H:%M:%S+00').date()\n",
    "    return dt.datetime.strftime(time, '%A')\n",
    "    \n",
    "detroit_df['weekday'] = detroit_df['call_timestamp'].apply(lambda x: return_weekday(x))"
   ]
  },
  {
   "cell_type": "code",
   "execution_count": 8,
   "id": "a191f9c9-1a6e-41b3-a2ab-1e0ac7b58929",
   "metadata": {},
   "outputs": [],
   "source": [
    "detroit_df.drop(columns = ['callcode','calldescription','call_timestamp'], inplace = True)\n",
    "detroit_df.drop(columns = ['precinct_sca','neighborhood'], inplace = True)\n",
    "detroit_df.dropna(subset = ['time_on_scene'], inplace = True)"
   ]
  },
  {
   "cell_type": "code",
   "execution_count": 10,
   "id": "f5c1ab47-aed6-4177-9c53-dee7c10c583c",
   "metadata": {},
   "outputs": [
    {
     "data": {
      "text/html": [
       "<div>\n",
       "<style scoped>\n",
       "    .dataframe tbody tr th:only-of-type {\n",
       "        vertical-align: middle;\n",
       "    }\n",
       "\n",
       "    .dataframe tbody tr th {\n",
       "        vertical-align: top;\n",
       "    }\n",
       "\n",
       "    .dataframe thead th {\n",
       "        text-align: right;\n",
       "    }\n",
       "</style>\n",
       "<table border=\"1\" class=\"dataframe\">\n",
       "  <thead>\n",
       "    <tr style=\"text-align: right;\">\n",
       "      <th></th>\n",
       "      <th>officerinitiated</th>\n",
       "      <th>intaketime</th>\n",
       "      <th>dispatchtime</th>\n",
       "      <th>traveltime</th>\n",
       "      <th>time_on_scene</th>\n",
       "      <th>council_district</th>\n",
       "      <th>priority</th>\n",
       "      <th>weekday</th>\n",
       "    </tr>\n",
       "  </thead>\n",
       "  <tbody>\n",
       "    <tr>\n",
       "      <th>0</th>\n",
       "      <td>No</td>\n",
       "      <td>2.2</td>\n",
       "      <td>528.6</td>\n",
       "      <td>15.5</td>\n",
       "      <td>120.5</td>\n",
       "      <td>4.0</td>\n",
       "      <td>3</td>\n",
       "      <td>Tuesday</td>\n",
       "    </tr>\n",
       "    <tr>\n",
       "      <th>1</th>\n",
       "      <td>No</td>\n",
       "      <td>2.7</td>\n",
       "      <td>5.2</td>\n",
       "      <td>6.4</td>\n",
       "      <td>59.1</td>\n",
       "      <td>2.0</td>\n",
       "      <td>2</td>\n",
       "      <td>Tuesday</td>\n",
       "    </tr>\n",
       "    <tr>\n",
       "      <th>3</th>\n",
       "      <td>No</td>\n",
       "      <td>1.4</td>\n",
       "      <td>3.4</td>\n",
       "      <td>7.6</td>\n",
       "      <td>41.7</td>\n",
       "      <td>7.0</td>\n",
       "      <td>3</td>\n",
       "      <td>Tuesday</td>\n",
       "    </tr>\n",
       "    <tr>\n",
       "      <th>5</th>\n",
       "      <td>No</td>\n",
       "      <td>3.5</td>\n",
       "      <td>9.9</td>\n",
       "      <td>5.5</td>\n",
       "      <td>6.4</td>\n",
       "      <td>5.0</td>\n",
       "      <td>2</td>\n",
       "      <td>Tuesday</td>\n",
       "    </tr>\n",
       "    <tr>\n",
       "      <th>6</th>\n",
       "      <td>No</td>\n",
       "      <td>1.0</td>\n",
       "      <td>152.8</td>\n",
       "      <td>5.2</td>\n",
       "      <td>42.4</td>\n",
       "      <td>2.0</td>\n",
       "      <td>2</td>\n",
       "      <td>Tuesday</td>\n",
       "    </tr>\n",
       "  </tbody>\n",
       "</table>\n",
       "</div>"
      ],
      "text/plain": [
       "  officerinitiated  intaketime  dispatchtime  traveltime  time_on_scene  \\\n",
       "0               No         2.2         528.6        15.5          120.5   \n",
       "1               No         2.7           5.2         6.4           59.1   \n",
       "3               No         1.4           3.4         7.6           41.7   \n",
       "5               No         3.5           9.9         5.5            6.4   \n",
       "6               No         1.0         152.8         5.2           42.4   \n",
       "\n",
       "   council_district priority  weekday  \n",
       "0               4.0        3  Tuesday  \n",
       "1               2.0        2  Tuesday  \n",
       "3               7.0        3  Tuesday  \n",
       "5               5.0        2  Tuesday  \n",
       "6               2.0        2  Tuesday  "
      ]
     },
     "execution_count": 10,
     "metadata": {},
     "output_type": "execute_result"
    }
   ],
   "source": [
    "detroit_df.head()"
   ]
  },
  {
   "cell_type": "code",
   "execution_count": 11,
   "id": "6f1380a4-6eae-4382-8034-2a3692d5ed58",
   "metadata": {},
   "outputs": [
    {
     "data": {
      "text/plain": [
       "(84931, 18)"
      ]
     },
     "execution_count": 11,
     "metadata": {},
     "output_type": "execute_result"
    }
   ],
   "source": [
    "detroit_dummied = pd.get_dummies(detroit_df, drop_first = True)\n",
    "detroit_dummied.shape"
   ]
  },
  {
   "cell_type": "code",
   "execution_count": 12,
   "id": "1d92d737-a9a6-44a8-82cc-635bc19e88bb",
   "metadata": {},
   "outputs": [
    {
     "data": {
      "text/plain": [
       "(1000, 18)"
      ]
     },
     "execution_count": 12,
     "metadata": {},
     "output_type": "execute_result"
    }
   ],
   "source": [
    "subset = detroit_dummied.head(1000)\n",
    "subset.shape"
   ]
  },
  {
   "cell_type": "code",
   "execution_count": 35,
   "id": "277c6f38-8f5b-4a71-9872-edb0764a9c3e",
   "metadata": {},
   "outputs": [
    {
     "name": "stdout",
     "output_type": "stream",
     "text": [
      "569\n"
     ]
    }
   ],
   "source": [
    "print(len(subset['time_on_scene'].unique()))"
   ]
  },
  {
   "cell_type": "code",
   "execution_count": 17,
   "id": "b8e2b0cc-c11f-497c-a04a-a089539fc5a2",
   "metadata": {},
   "outputs": [],
   "source": [
    "## converting to numpy array\n",
    "subset_np_target = subset[['time_on_scene']].to_numpy()\n",
    "subset_np_data = subset.drop(columns = ['time_on_scene']).to_numpy()"
   ]
  },
  {
   "cell_type": "code",
   "execution_count": 19,
   "id": "8681bf90-a7ac-4c6f-9525-26532620e50d",
   "metadata": {},
   "outputs": [],
   "source": [
    "X = subset_np_data\n",
    "y = subset_np_target"
   ]
  },
  {
   "cell_type": "code",
   "execution_count": 20,
   "id": "64d8ec32-4fe9-4049-845c-047faa03a822",
   "metadata": {},
   "outputs": [],
   "source": [
    "X_train, X_test, y_train, y_test = train_test_split(X, y, test_size = 0.2, random_state = 42)"
   ]
  },
  {
   "cell_type": "code",
   "execution_count": 21,
   "id": "4bb97997-dee6-412a-9c96-1d58bbc049fc",
   "metadata": {},
   "outputs": [],
   "source": [
    "dtrain = xgb.DMatrix(X_train, label=y_train)\n",
    "dtest = xgb.DMatrix(X_test, label=y_test)"
   ]
  },
  {
   "cell_type": "code",
   "execution_count": 44,
   "id": "0513ab52-cd85-45d9-a39e-2cd1e7cd5152",
   "metadata": {},
   "outputs": [],
   "source": [
    "param = {\n",
    "    'max_depth': 3,  # the maximum depth of each tree\n",
    "    'eta': 0.3,  # the training step for each iteration\n",
    "    'silent': 1,  # logging mode - quiet\n",
    "    #'objective': 'multi:softmax',  # error evaluation for multiclass training\n",
    "    #'num_class': 569  # the number of classes that exist in this datset\n",
    "}"
   ]
  },
  {
   "cell_type": "code",
   "execution_count": 45,
   "id": "842a39a5-00a1-405c-9597-076681703708",
   "metadata": {},
   "outputs": [
    {
     "name": "stdout",
     "output_type": "stream",
     "text": [
      "[07:23:48] WARNING: D:\\bld\\xgboost-split_1645118015404\\work\\src\\learner.cc:576: \n",
      "Parameters: { \"silent\" } might not be used.\n",
      "\n",
      "  This could be a false alarm, with some parameters getting used by language bindings but\n",
      "  then being mistakenly passed down to XGBoost core, or some parameter actually being used\n",
      "  but getting flagged wrongly here. Please open an issue if you find any such cases.\n",
      "\n",
      "\n"
     ]
    }
   ],
   "source": [
    "bst = xgb.train(param, dtrain, 20)"
   ]
  },
  {
   "cell_type": "code",
   "execution_count": 46,
   "id": "6d508361-78a1-42b0-b6de-12a7a0bcbbe4",
   "metadata": {},
   "outputs": [
    {
     "data": {
      "text/plain": [
       "array([ 25.208767,  46.47731 ,  31.656036,  42.800297,  43.659897,\n",
       "        26.321358,  28.570234,  45.215878,  32.818287,  44.93826 ,\n",
       "        34.76383 ,  31.656036,  55.503864,  36.140423,  24.361734,\n",
       "        38.636513,  28.983158,  36.692875,  53.906277,  32.87214 ,\n",
       "        37.288097,  33.527187,  42.949345,  40.23509 ,  44.098785,\n",
       "        54.26494 ,  21.575718,  23.090122,  62.063953,  44.245724,\n",
       "        31.58895 ,  43.659897,  45.44834 ,  37.288097,  37.288097,\n",
       "        58.23614 ,  31.518864,  42.708286,  42.63111 ,  31.679808,\n",
       "        54.26494 ,  28.825096,  61.67812 ,  29.281134,  46.710503,\n",
       "        53.569233,  51.082302,  32.34802 ,  49.601707,  35.631653,\n",
       "        32.088028,  43.659897,  47.128265,  42.042915, 141.98466 ,\n",
       "        38.718666,  21.261738,  29.83158 ,  47.128265,  40.636   ,\n",
       "        31.656036,  41.471157,  48.031086,   8.053561,  86.47774 ,\n",
       "        36.194466,  52.547436,  34.20521 ,  56.360683,  20.536179,\n",
       "        44.24915 ,  22.252169,  44.098785,  45.41593 ,  41.520542,\n",
       "        33.11967 ,  50.690495,  80.66878 ,  34.312386,  29.483185,\n",
       "        38.636513,  34.247845,  54.811333,  37.288097,  54.811333,\n",
       "        20.64853 ,  56.74702 ,  38.718666,  46.47731 ,  35.927612,\n",
       "        54.26494 ,  28.461088,  26.55651 ,  54.811333,  31.656036,\n",
       "        53.569233,  24.33484 ,  35.248158,  27.927505,  48.640686,\n",
       "        47.128265,  54.488274,  34.20521 ,  44.718636,  25.963705,\n",
       "        26.167229,  38.440952,  38.74874 ,  36.87907 ,  41.76873 ,\n",
       "        39.167347,  42.63111 ,  96.97893 ,  46.14617 ,  35.927612,\n",
       "        22.792542, 137.18922 ,  55.503864,  37.379177,  37.288097,\n",
       "        53.946426,  54.26494 ,  38.463173,  13.067295,  34.693584,\n",
       "        44.358044,  61.501453,  31.656036,  47.889526,  54.185   ,\n",
       "        43.941486,  38.636513,  47.128265,  37.288097,  41.75604 ,\n",
       "        36.908035,  41.267643,  38.440952,  19.23837 ,  31.656036,\n",
       "        46.45095 ,  30.147032,  28.825096,  34.20521 ,  31.656036,\n",
       "        31.656036,  38.636513,  40.23509 ,  51.12696 ,  46.47731 ,\n",
       "        31.656036,  39.69787 ,  46.74264 ,  54.26494 ,  46.47731 ,\n",
       "        34.839195,  41.520542,  31.656036,  34.76383 ,  31.656036,\n",
       "        54.811333,  46.47731 ,  47.128265,  31.656036,  39.45834 ,\n",
       "        57.511246,  54.811333,  25.645031,  38.810814,  29.83158 ,\n",
       "        35.926785,  50.759293,  60.268253,  19.552893,  26.589434,\n",
       "        31.656036,  43.82107 ,  31.656036,  51.082302,  47.126396,\n",
       "        25.956818,  51.542133,  30.546667,  39.67715 ,  54.98007 ,\n",
       "        44.69541 ,  39.154327,  38.636513,  31.656036,  37.224754,\n",
       "        21.694357,  34.213463,  29.664778,  36.852283,  55.503864,\n",
       "        42.476906,  40.23509 ,  46.47731 ,  41.520542,  37.211044],\n",
       "      dtype=float32)"
      ]
     },
     "execution_count": 46,
     "metadata": {},
     "output_type": "execute_result"
    }
   ],
   "source": [
    "preds = bst.predict(dtest)\n",
    "preds"
   ]
  },
  {
   "cell_type": "code",
   "execution_count": 49,
   "id": "e8c9890d-844f-42f5-ad2d-855cad731b24",
   "metadata": {},
   "outputs": [],
   "source": [
    "prediction_frame = pd.DataFrame(y_test, columns = ['ground_truth'])"
   ]
  },
  {
   "cell_type": "code",
   "execution_count": 52,
   "id": "21babafc-dd51-419b-83ad-fedfdb45476b",
   "metadata": {},
   "outputs": [],
   "source": [
    "prediction_frame['prediction'] = preds"
   ]
  },
  {
   "cell_type": "code",
   "execution_count": 54,
   "id": "4a335573-a6b5-4c83-8228-fcf1c7579784",
   "metadata": {},
   "outputs": [
    {
     "data": {
      "text/html": [
       "<div>\n",
       "<style scoped>\n",
       "    .dataframe tbody tr th:only-of-type {\n",
       "        vertical-align: middle;\n",
       "    }\n",
       "\n",
       "    .dataframe tbody tr th {\n",
       "        vertical-align: top;\n",
       "    }\n",
       "\n",
       "    .dataframe thead th {\n",
       "        text-align: right;\n",
       "    }\n",
       "</style>\n",
       "<table border=\"1\" class=\"dataframe\">\n",
       "  <thead>\n",
       "    <tr style=\"text-align: right;\">\n",
       "      <th></th>\n",
       "      <th>ground_truth</th>\n",
       "      <th>prediction</th>\n",
       "    </tr>\n",
       "  </thead>\n",
       "  <tbody>\n",
       "    <tr>\n",
       "      <th>0</th>\n",
       "      <td>18.9</td>\n",
       "      <td>25.208767</td>\n",
       "    </tr>\n",
       "    <tr>\n",
       "      <th>1</th>\n",
       "      <td>158.5</td>\n",
       "      <td>46.477310</td>\n",
       "    </tr>\n",
       "    <tr>\n",
       "      <th>2</th>\n",
       "      <td>1.3</td>\n",
       "      <td>31.656036</td>\n",
       "    </tr>\n",
       "    <tr>\n",
       "      <th>3</th>\n",
       "      <td>55.0</td>\n",
       "      <td>42.800297</td>\n",
       "    </tr>\n",
       "    <tr>\n",
       "      <th>4</th>\n",
       "      <td>30.7</td>\n",
       "      <td>43.659897</td>\n",
       "    </tr>\n",
       "    <tr>\n",
       "      <th>...</th>\n",
       "      <td>...</td>\n",
       "      <td>...</td>\n",
       "    </tr>\n",
       "    <tr>\n",
       "      <th>195</th>\n",
       "      <td>34.5</td>\n",
       "      <td>42.476906</td>\n",
       "    </tr>\n",
       "    <tr>\n",
       "      <th>196</th>\n",
       "      <td>4.1</td>\n",
       "      <td>40.235088</td>\n",
       "    </tr>\n",
       "    <tr>\n",
       "      <th>197</th>\n",
       "      <td>5.4</td>\n",
       "      <td>46.477310</td>\n",
       "    </tr>\n",
       "    <tr>\n",
       "      <th>198</th>\n",
       "      <td>40.6</td>\n",
       "      <td>41.520542</td>\n",
       "    </tr>\n",
       "    <tr>\n",
       "      <th>199</th>\n",
       "      <td>30.8</td>\n",
       "      <td>37.211044</td>\n",
       "    </tr>\n",
       "  </tbody>\n",
       "</table>\n",
       "<p>200 rows × 2 columns</p>\n",
       "</div>"
      ],
      "text/plain": [
       "     ground_truth  prediction\n",
       "0            18.9   25.208767\n",
       "1           158.5   46.477310\n",
       "2             1.3   31.656036\n",
       "3            55.0   42.800297\n",
       "4            30.7   43.659897\n",
       "..            ...         ...\n",
       "195          34.5   42.476906\n",
       "196           4.1   40.235088\n",
       "197           5.4   46.477310\n",
       "198          40.6   41.520542\n",
       "199          30.8   37.211044\n",
       "\n",
       "[200 rows x 2 columns]"
      ]
     },
     "execution_count": 54,
     "metadata": {},
     "output_type": "execute_result"
    }
   ],
   "source": [
    "prediction_frame"
   ]
  },
  {
   "cell_type": "code",
   "execution_count": null,
   "id": "18c0400f-1d93-4907-9ccb-ec184692f5c1",
   "metadata": {},
   "outputs": [],
   "source": []
  }
 ],
 "metadata": {
  "kernelspec": {
   "display_name": "Python 3 (ipykernel)",
   "language": "python",
   "name": "python3"
  },
  "language_info": {
   "codemirror_mode": {
    "name": "ipython",
    "version": 3
   },
   "file_extension": ".py",
   "mimetype": "text/x-python",
   "name": "python",
   "nbconvert_exporter": "python",
   "pygments_lexer": "ipython3",
   "version": "3.9.7"
  }
 },
 "nbformat": 4,
 "nbformat_minor": 5
}
