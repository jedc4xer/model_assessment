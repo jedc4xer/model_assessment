{
 "cells": [
  {
   "cell_type": "code",
   "execution_count": 1,
   "id": "7706ab79-b61c-41a1-800b-41b06791005f",
   "metadata": {},
   "outputs": [],
   "source": [
    "import pandas as pd\n",
    "from sklearn.linear_model import LogisticRegressionCV\n",
    "from sklearn.model_selection import train_test_split\n",
    "from sklearn.metrics import confusion_matrix\n",
    "from sklearn.metrics import matthews_corrcoef"
   ]
  },
  {
   "cell_type": "markdown",
   "id": "677fb867-f4b3-46f5-a753-6d124152187e",
   "metadata": {},
   "source": [
    "### Step 1: Import the raw data set into a pandas dataframe"
   ]
  },
  {
   "cell_type": "code",
   "execution_count": 2,
   "id": "803ac7d2-755e-442c-9e3e-48e0e7300ca9",
   "metadata": {},
   "outputs": [
    {
     "data": {
      "text/html": [
       "<div>\n",
       "<style scoped>\n",
       "    .dataframe tbody tr th:only-of-type {\n",
       "        vertical-align: middle;\n",
       "    }\n",
       "\n",
       "    .dataframe tbody tr th {\n",
       "        vertical-align: top;\n",
       "    }\n",
       "\n",
       "    .dataframe thead th {\n",
       "        text-align: right;\n",
       "    }\n",
       "</style>\n",
       "<table border=\"1\" class=\"dataframe\">\n",
       "  <thead>\n",
       "    <tr style=\"text-align: right;\">\n",
       "      <th></th>\n",
       "      <th>Pregnancies</th>\n",
       "      <th>Glucose</th>\n",
       "      <th>BloodPressure</th>\n",
       "      <th>SkinThickness</th>\n",
       "      <th>Insulin</th>\n",
       "      <th>BMI</th>\n",
       "      <th>DiabetesPedigreeFunction</th>\n",
       "      <th>Age</th>\n",
       "      <th>Outcome</th>\n",
       "    </tr>\n",
       "  </thead>\n",
       "  <tbody>\n",
       "    <tr>\n",
       "      <th>0</th>\n",
       "      <td>6</td>\n",
       "      <td>148</td>\n",
       "      <td>72</td>\n",
       "      <td>35</td>\n",
       "      <td>0</td>\n",
       "      <td>33.6</td>\n",
       "      <td>0.627</td>\n",
       "      <td>50</td>\n",
       "      <td>1</td>\n",
       "    </tr>\n",
       "    <tr>\n",
       "      <th>1</th>\n",
       "      <td>1</td>\n",
       "      <td>85</td>\n",
       "      <td>66</td>\n",
       "      <td>29</td>\n",
       "      <td>0</td>\n",
       "      <td>26.6</td>\n",
       "      <td>0.351</td>\n",
       "      <td>31</td>\n",
       "      <td>0</td>\n",
       "    </tr>\n",
       "  </tbody>\n",
       "</table>\n",
       "</div>"
      ],
      "text/plain": [
       "   Pregnancies  Glucose  BloodPressure  SkinThickness  Insulin   BMI  \\\n",
       "0            6      148             72             35        0  33.6   \n",
       "1            1       85             66             29        0  26.6   \n",
       "\n",
       "   DiabetesPedigreeFunction  Age  Outcome  \n",
       "0                     0.627   50        1  \n",
       "1                     0.351   31        0  "
      ]
     },
     "execution_count": 2,
     "metadata": {},
     "output_type": "execute_result"
    }
   ],
   "source": [
    "diabetes_df = pd.read_csv('data/diabetes.csv')\n",
    "diabetes_df.head(2)"
   ]
  },
  {
   "cell_type": "markdown",
   "id": "56802a1c-fe54-407b-9b39-95273e320d77",
   "metadata": {},
   "source": [
    "### Step 2:\n",
    "####      2a: Clean the data and remove missing values. "
   ]
  },
  {
   "cell_type": "code",
   "execution_count": 3,
   "id": "452da5a9-3a16-4ca8-ba37-23a39f4de8e6",
   "metadata": {},
   "outputs": [
    {
     "data": {
      "text/plain": [
       "Pregnancies                 0\n",
       "Glucose                     0\n",
       "BloodPressure               0\n",
       "SkinThickness               0\n",
       "Insulin                     0\n",
       "BMI                         0\n",
       "DiabetesPedigreeFunction    0\n",
       "Age                         0\n",
       "Outcome                     0\n",
       "dtype: int64"
      ]
     },
     "execution_count": 3,
     "metadata": {},
     "output_type": "execute_result"
    }
   ],
   "source": [
    "diabetes_df.isna().sum()"
   ]
  },
  {
   "cell_type": "markdown",
   "id": "bb871f97-405d-49e0-af60-4f101bfc8f78",
   "metadata": {},
   "source": [
    "> No missing Values Found\n",
    "#### 2b: Drop any column that is not categorical or numeric."
   ]
  },
  {
   "cell_type": "code",
   "execution_count": 4,
   "id": "efbbb585-8e9f-4699-85a5-93675878b31c",
   "metadata": {},
   "outputs": [
    {
     "name": "stdout",
     "output_type": "stream",
     "text": [
      "<class 'pandas.core.frame.DataFrame'>\n",
      "RangeIndex: 768 entries, 0 to 767\n",
      "Data columns (total 9 columns):\n",
      " #   Column                    Non-Null Count  Dtype  \n",
      "---  ------                    --------------  -----  \n",
      " 0   Pregnancies               768 non-null    int64  \n",
      " 1   Glucose                   768 non-null    int64  \n",
      " 2   BloodPressure             768 non-null    int64  \n",
      " 3   SkinThickness             768 non-null    int64  \n",
      " 4   Insulin                   768 non-null    int64  \n",
      " 5   BMI                       768 non-null    float64\n",
      " 6   DiabetesPedigreeFunction  768 non-null    float64\n",
      " 7   Age                       768 non-null    int64  \n",
      " 8   Outcome                   768 non-null    int64  \n",
      "dtypes: float64(2), int64(7)\n",
      "memory usage: 54.1 KB\n"
     ]
    }
   ],
   "source": [
    "diabetes_df.info()"
   ]
  },
  {
   "cell_type": "markdown",
   "id": "bf47e60a-7847-4dee-8545-4141a0bfdc1d",
   "metadata": {},
   "source": [
    "> All Columns are good for the regression\n",
    "#### 2c: Separate independent variables from dependent variables"
   ]
  },
  {
   "cell_type": "code",
   "execution_count": 5,
   "id": "b014879d-d525-43de-a63e-57cc03b197f1",
   "metadata": {},
   "outputs": [],
   "source": [
    "dependent_vars = diabetes_df['Outcome'].copy()\n",
    "independent_vars = diabetes_df.drop(columns = ['Outcome']).copy()"
   ]
  },
  {
   "cell_type": "markdown",
   "id": "badf2019-4fb9-4a94-83a9-80b0074ac763",
   "metadata": {},
   "source": [
    "### Step 3: Generate Dummy Variables for the categorical features.\n",
    "> No Categorical Features\n",
    "\n",
    "### Step 4: Create a Training Set that's 75% of your data set and a complentary test set with the remaining 25%.\n",
    "> Set Random State = 0"
   ]
  },
  {
   "cell_type": "code",
   "execution_count": 6,
   "id": "3552e71b-ea91-49ed-8e7d-8af1d42814dd",
   "metadata": {},
   "outputs": [],
   "source": [
    "X = independent_vars\n",
    "y = dependent_vars\n",
    "\n",
    "X_test, X_train, y_test, y_train = train_test_split(X, y, test_size=0.25, random_state=0)"
   ]
  },
  {
   "cell_type": "markdown",
   "id": "2536f361-a83b-4399-a657-683fb6415b3f",
   "metadata": {},
   "source": [
    "### Step 5: Train the model using the LogisticRegressionCV class\n",
    "> Required Imports:\n",
    ">> **from sklearn.linear_model import LogisticRegressionCV**\n",
    "#### What value of Cs hyper parameter performs best in cross-validation?"
   ]
  },
  {
   "cell_type": "code",
   "execution_count": 7,
   "id": "93715ee3-a7cc-4007-a1ee-0e6da201e51c",
   "metadata": {},
   "outputs": [
    {
     "name": "stdout",
     "output_type": "stream",
     "text": [
      "Best C: 21.54434690031882\n"
     ]
    }
   ],
   "source": [
    "log_reg_cv = LogisticRegressionCV(max_iter = 500)\n",
    "\n",
    "log_reg_cv.fit(X_train, y_train)\n",
    "log_coef = log_reg_cv.coef_\n",
    "log_intercept = log_reg_cv.intercept_\n",
    "\n",
    "best_c = log_reg_cv.C_[0]\n",
    "log_reg_cv.Cs_\n",
    "\n",
    "print(f'Best C: {best_c}')"
   ]
  },
  {
   "cell_type": "markdown",
   "id": "042d6de9-970c-45c8-9c9e-5c5c30b53b16",
   "metadata": {},
   "source": [
    "### Step 6: \n",
    "#### 6a: Use your model to generate predictions on the test set."
   ]
  },
  {
   "cell_type": "code",
   "execution_count": 8,
   "id": "f0f5f7d4-d394-48b9-a519-b6577db405ae",
   "metadata": {},
   "outputs": [],
   "source": [
    "predictions = log_reg_cv.predict(X_test)"
   ]
  },
  {
   "cell_type": "markdown",
   "id": "b70ead6e-20a5-414e-bf8d-1fcbd1a9b717",
   "metadata": {},
   "source": [
    "#\n",
    "**I have moved my predictions and actuals to a dataframe**"
   ]
  },
  {
   "cell_type": "code",
   "execution_count": 12,
   "id": "7231c83c-5bf6-4fbf-b6c8-824e5bb15d5d",
   "metadata": {},
   "outputs": [],
   "source": [
    "prediction_df = pd.DataFrame(y_test.copy(), columns = ['Outcome'])\n",
    "\n",
    "prediction_df['predictions'] = predictions"
   ]
  },
  {
   "cell_type": "markdown",
   "id": "014b6926-fd27-4215-b731-07224fcc3080",
   "metadata": {},
   "source": [
    "#### 6b: Create a confusion matrix\n",
    "> Required Imports\n",
    ">> **from sklearn.metrics import confusion_matrix**"
   ]
  },
  {
   "cell_type": "code",
   "execution_count": 13,
   "id": "97e932b1-3bfa-4e8b-bde8-fccba648bbaf",
   "metadata": {},
   "outputs": [
    {
     "data": {
      "text/html": [
       "<div>\n",
       "<style scoped>\n",
       "    .dataframe tbody tr th:only-of-type {\n",
       "        vertical-align: middle;\n",
       "    }\n",
       "\n",
       "    .dataframe tbody tr th {\n",
       "        vertical-align: top;\n",
       "    }\n",
       "\n",
       "    .dataframe thead th {\n",
       "        text-align: right;\n",
       "    }\n",
       "</style>\n",
       "<table border=\"1\" class=\"dataframe\">\n",
       "  <thead>\n",
       "    <tr style=\"text-align: right;\">\n",
       "      <th></th>\n",
       "      <th>Outcome</th>\n",
       "      <th>predictions</th>\n",
       "    </tr>\n",
       "  </thead>\n",
       "  <tbody>\n",
       "    <tr>\n",
       "      <th>762</th>\n",
       "      <td>0</td>\n",
       "      <td>0</td>\n",
       "    </tr>\n",
       "    <tr>\n",
       "      <th>127</th>\n",
       "      <td>0</td>\n",
       "      <td>0</td>\n",
       "    </tr>\n",
       "    <tr>\n",
       "      <th>564</th>\n",
       "      <td>0</td>\n",
       "      <td>0</td>\n",
       "    </tr>\n",
       "    <tr>\n",
       "      <th>375</th>\n",
       "      <td>1</td>\n",
       "      <td>1</td>\n",
       "    </tr>\n",
       "    <tr>\n",
       "      <th>663</th>\n",
       "      <td>1</td>\n",
       "      <td>1</td>\n",
       "    </tr>\n",
       "    <tr>\n",
       "      <th>...</th>\n",
       "      <td>...</td>\n",
       "      <td>...</td>\n",
       "    </tr>\n",
       "    <tr>\n",
       "      <th>763</th>\n",
       "      <td>0</td>\n",
       "      <td>0</td>\n",
       "    </tr>\n",
       "    <tr>\n",
       "      <th>192</th>\n",
       "      <td>1</td>\n",
       "      <td>1</td>\n",
       "    </tr>\n",
       "    <tr>\n",
       "      <th>629</th>\n",
       "      <td>0</td>\n",
       "      <td>0</td>\n",
       "    </tr>\n",
       "    <tr>\n",
       "      <th>559</th>\n",
       "      <td>0</td>\n",
       "      <td>0</td>\n",
       "    </tr>\n",
       "    <tr>\n",
       "      <th>684</th>\n",
       "      <td>0</td>\n",
       "      <td>0</td>\n",
       "    </tr>\n",
       "  </tbody>\n",
       "</table>\n",
       "<p>576 rows × 2 columns</p>\n",
       "</div>"
      ],
      "text/plain": [
       "     Outcome  predictions\n",
       "762        0            0\n",
       "127        0            0\n",
       "564        0            0\n",
       "375        1            1\n",
       "663        1            1\n",
       "..       ...          ...\n",
       "763        0            0\n",
       "192        1            1\n",
       "629        0            0\n",
       "559        0            0\n",
       "684        0            0\n",
       "\n",
       "[576 rows x 2 columns]"
      ]
     },
     "execution_count": 13,
     "metadata": {},
     "output_type": "execute_result"
    }
   ],
   "source": [
    "prediction_df"
   ]
  },
  {
   "cell_type": "code",
   "execution_count": 14,
   "id": "e57e00d7-ce2f-41ae-8cf4-06877681363f",
   "metadata": {},
   "outputs": [
    {
     "data": {
      "text/html": [
       "<div>\n",
       "<style scoped>\n",
       "    .dataframe tbody tr th:only-of-type {\n",
       "        vertical-align: middle;\n",
       "    }\n",
       "\n",
       "    .dataframe tbody tr th {\n",
       "        vertical-align: top;\n",
       "    }\n",
       "\n",
       "    .dataframe thead th {\n",
       "        text-align: right;\n",
       "    }\n",
       "</style>\n",
       "<table border=\"1\" class=\"dataframe\">\n",
       "  <thead>\n",
       "    <tr style=\"text-align: right;\">\n",
       "      <th></th>\n",
       "      <th>Negative</th>\n",
       "      <th>Positive</th>\n",
       "    </tr>\n",
       "  </thead>\n",
       "  <tbody>\n",
       "    <tr>\n",
       "      <th>Negative</th>\n",
       "      <td>329</td>\n",
       "      <td>41</td>\n",
       "    </tr>\n",
       "    <tr>\n",
       "      <th>Positive</th>\n",
       "      <td>92</td>\n",
       "      <td>114</td>\n",
       "    </tr>\n",
       "  </tbody>\n",
       "</table>\n",
       "</div>"
      ],
      "text/plain": [
       "          Negative  Positive\n",
       "Negative       329        41\n",
       "Positive        92       114"
      ]
     },
     "execution_count": 14,
     "metadata": {},
     "output_type": "execute_result"
    }
   ],
   "source": [
    "matrix = confusion_matrix(prediction_df['Outcome'], prediction_df['predictions'], labels = [0,1])\n",
    "pd.DataFrame(matrix, columns = ['Negative','Positive'], index = ['Negative','Positive'])"
   ]
  },
  {
   "cell_type": "markdown",
   "id": "eb805098-6898-46c4-9ed7-4609f0eea6c6",
   "metadata": {},
   "source": [
    "#### 6c: Print the Matthews correlation coeficient.\n",
    "> Required Imports:\n",
    ">> **from sklearn.metrics import matthews_corrcoef**"
   ]
  },
  {
   "cell_type": "code",
   "execution_count": 15,
   "id": "0ca74b23-a281-4c09-ab7d-04d41be95379",
   "metadata": {},
   "outputs": [
    {
     "name": "stdout",
     "output_type": "stream",
     "text": [
      "0.4783287350221806\n"
     ]
    }
   ],
   "source": [
    "mccoef = matthews_corrcoef(prediction_df['Outcome'], prediction_df['predictions'])\n",
    "print(mccoef)"
   ]
  },
  {
   "cell_type": "code",
   "execution_count": null,
   "id": "422959ea-87b1-488d-ae1e-022dc11a06c2",
   "metadata": {},
   "outputs": [],
   "source": []
  }
 ],
 "metadata": {
  "kernelspec": {
   "display_name": "Python 3 (ipykernel)",
   "language": "python",
   "name": "python3"
  },
  "language_info": {
   "codemirror_mode": {
    "name": "ipython",
    "version": 3
   },
   "file_extension": ".py",
   "mimetype": "text/x-python",
   "name": "python",
   "nbconvert_exporter": "python",
   "pygments_lexer": "ipython3",
   "version": "3.9.7"
  }
 },
 "nbformat": 4,
 "nbformat_minor": 5
}
